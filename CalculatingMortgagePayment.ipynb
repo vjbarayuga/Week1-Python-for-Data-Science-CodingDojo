{
  "nbformat": 4,
  "nbformat_minor": 0,
  "metadata": {
    "colab": {
      "name": "CalculatingMortgagePayment.ipynb",
      "provenance": [],
      "authorship_tag": "ABX9TyMs78jbCIkHaOSBnx7h5yZD",
      "include_colab_link": true
    },
    "kernelspec": {
      "name": "python3",
      "display_name": "Python 3"
    },
    "language_info": {
      "name": "python"
    }
  },
  "cells": [
    {
      "cell_type": "markdown",
      "metadata": {
        "id": "view-in-github",
        "colab_type": "text"
      },
      "source": [
        "<a href=\"https://colab.research.google.com/github/vjbarayuga/Week1-Python-for-Data-Science-CodingDojo/blob/main/CalculatingMortgagePayment.ipynb\" target=\"_parent\"><img src=\"https://colab.research.google.com/assets/colab-badge.svg\" alt=\"Open In Colab\"/></a>"
      ]
    },
    {
      "cell_type": "code",
      "metadata": {
        "colab": {
          "base_uri": "https://localhost:8080/"
        },
        "id": "xlko9VqfJlcI",
        "outputId": "b8ccbf65-70d2-4c2e-b305-ce248c573657"
      },
      "source": [
        "P = 400000\n",
        "r = 0.03 / 12\n",
        "n = 30 * 12\n",
        "nu = (r *((1 + r)**(n)) )\n",
        "de = ((1 + r)**(n)) - 1\n",
        "emi = P * (nu / de)\n",
        "emi"
      ],
      "execution_count": 1,
      "outputs": [
        {
          "output_type": "execute_result",
          "data": {
            "text/plain": [
              "1686.4161349178237"
            ]
          },
          "metadata": {},
          "execution_count": 1
        }
      ]
    }
  ]
}