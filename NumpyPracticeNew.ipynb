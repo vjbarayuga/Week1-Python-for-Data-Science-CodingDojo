{
  "nbformat": 4,
  "nbformat_minor": 0,
  "metadata": {
    "colab": {
      "name": "NumpyPracticeNew.ipynb",
      "provenance": [],
      "collapsed_sections": [],
      "authorship_tag": "ABX9TyMir2nL0PAxxkebqrCRPcbT",
      "include_colab_link": true
    },
    "kernelspec": {
      "name": "python3",
      "display_name": "Python 3"
    },
    "language_info": {
      "name": "python"
    }
  },
  "cells": [
    {
      "cell_type": "markdown",
      "metadata": {
        "id": "view-in-github",
        "colab_type": "text"
      },
      "source": [
        "<a href=\"https://colab.research.google.com/github/vjbarayuga/Week1-Python-for-Data-Science-CodingDojo/blob/main/NumpyPracticeNew.ipynb\" target=\"_parent\"><img src=\"https://colab.research.google.com/assets/colab-badge.svg\" alt=\"Open In Colab\"/></a>"
      ]
    },
    {
      "cell_type": "markdown",
      "metadata": {
        "id": "2Dc5xVa4xTa1"
      },
      "source": [
        "# Numpy 1 (Intro to Numpy Arrays)"
      ]
    },
    {
      "cell_type": "code",
      "metadata": {
        "colab": {
          "base_uri": "https://localhost:8080/"
        },
        "id": "pca_xWu3YbbY",
        "outputId": "8ff69eee-726d-48d7-9868-d2ca907dd08b"
      },
      "source": [
        "price = [2, 1, 10]\n",
        "type(price)"
      ],
      "execution_count": 1,
      "outputs": [
        {
          "output_type": "execute_result",
          "data": {
            "text/plain": [
              "list"
            ]
          },
          "metadata": {},
          "execution_count": 1
        }
      ]
    },
    {
      "cell_type": "code",
      "metadata": {
        "colab": {
          "base_uri": "https://localhost:8080/"
        },
        "id": "V3Q6jyIhbnVS",
        "outputId": "4474fe7e-1398-4f30-931e-468c3a816efc"
      },
      "source": [
        "quantity_sold = [17, 40, 1]\n",
        "type(quantity_sold)"
      ],
      "execution_count": 2,
      "outputs": [
        {
          "output_type": "execute_result",
          "data": {
            "text/plain": [
              "list"
            ]
          },
          "metadata": {},
          "execution_count": 2
        }
      ]
    },
    {
      "cell_type": "code",
      "metadata": {
        "id": "QsrRDdutbu_r"
      },
      "source": [
        "import numpy as np"
      ],
      "execution_count": 3,
      "outputs": []
    },
    {
      "cell_type": "code",
      "metadata": {
        "colab": {
          "base_uri": "https://localhost:8080/"
        },
        "id": "GXJTxRl5byeC",
        "outputId": "351c66b7-0165-4266-9641-46d366c36580"
      },
      "source": [
        "price_array = np.array(price)\n",
        "quantity_sold_array = np.array(quantity_sold)\n",
        "type(price_array)"
      ],
      "execution_count": 4,
      "outputs": [
        {
          "output_type": "execute_result",
          "data": {
            "text/plain": [
              "numpy.ndarray"
            ]
          },
          "metadata": {},
          "execution_count": 4
        }
      ]
    },
    {
      "cell_type": "code",
      "metadata": {
        "colab": {
          "base_uri": "https://localhost:8080/"
        },
        "id": "P9yqxz7z_Wjs",
        "outputId": "01204337-1415-47ae-82a0-d7e867ca076d"
      },
      "source": [
        "price_array * quantity_sold_array"
      ],
      "execution_count": 5,
      "outputs": [
        {
          "output_type": "execute_result",
          "data": {
            "text/plain": [
              "array([34, 40, 10])"
            ]
          },
          "metadata": {},
          "execution_count": 5
        }
      ]
    },
    {
      "cell_type": "code",
      "metadata": {
        "colab": {
          "base_uri": "https://localhost:8080/"
        },
        "id": "Ebj_4adM_hz8",
        "outputId": "88622d37-950b-461e-93b1-6914fec0d5d9"
      },
      "source": [
        "price_array = np.append(price_array, 7)\n",
        "print(price_array)"
      ],
      "execution_count": 6,
      "outputs": [
        {
          "output_type": "stream",
          "name": "stdout",
          "text": [
            "[ 2  1 10  7]\n"
          ]
        }
      ]
    },
    {
      "cell_type": "code",
      "metadata": {
        "colab": {
          "base_uri": "https://localhost:8080/"
        },
        "id": "4hMogMOc_sqj",
        "outputId": "fbc596fa-b5b6-4b9e-d803-657ae8db664a"
      },
      "source": [
        "price_array = np.append(price_array, [4.50, 3, 4, 9])\n",
        "print(price_array)"
      ],
      "execution_count": 7,
      "outputs": [
        {
          "output_type": "stream",
          "name": "stdout",
          "text": [
            "[ 2.   1.  10.   7.   4.5  3.   4.   9. ]\n"
          ]
        }
      ]
    },
    {
      "cell_type": "code",
      "metadata": {
        "colab": {
          "base_uri": "https://localhost:8080/"
        },
        "id": "NYewMEWZ_xoE",
        "outputId": "affbb23f-2802-456a-ba7a-274b795ac002"
      },
      "source": [
        "price_array = np.delete(price_array, -1)\n",
        "print(price_array)"
      ],
      "execution_count": 8,
      "outputs": [
        {
          "output_type": "stream",
          "name": "stdout",
          "text": [
            "[ 2.   1.  10.   7.   4.5  3.   4. ]\n"
          ]
        }
      ]
    },
    {
      "cell_type": "code",
      "metadata": {
        "colab": {
          "base_uri": "https://localhost:8080/"
        },
        "id": "9Dp9lu5p_2Cs",
        "outputId": "d2eb1ebb-97c0-4ced-8170-bc97c7d85d61"
      },
      "source": [
        "price_array[2] = 12\n",
        "print(price_array)"
      ],
      "execution_count": 9,
      "outputs": [
        {
          "output_type": "stream",
          "name": "stdout",
          "text": [
            "[ 2.   1.  12.   7.   4.5  3.   4. ]\n"
          ]
        }
      ]
    },
    {
      "cell_type": "markdown",
      "metadata": {
        "id": "lJiLS2XEUeMx"
      },
      "source": [
        "# Numpy 2 (Bakery Numpy Exercise)\n"
      ]
    },
    {
      "cell_type": "code",
      "metadata": {
        "colab": {
          "base_uri": "https://localhost:8080/"
        },
        "id": "n7FfMgGdAIc0",
        "outputId": "e2c954fc-9a6f-4c9e-c7f9-f24cae35d545"
      },
      "source": [
        "quantity_sold_array = np.append(quantity_sold_array, [2, 3, 16, 5])\n",
        "print(quantity_sold_array)"
      ],
      "execution_count": 10,
      "outputs": [
        {
          "output_type": "stream",
          "name": "stdout",
          "text": [
            "[17 40  1  2  3 16  5]\n"
          ]
        }
      ]
    },
    {
      "cell_type": "code",
      "metadata": {
        "colab": {
          "base_uri": "https://localhost:8080/"
        },
        "id": "r8pvRk5aBQTU",
        "outputId": "b75cf3f4-9b4e-4551-8c48-c6c2eb3c0f1b"
      },
      "source": [
        "# brownie, cookie, cake, pie, fuge, cupcake, banana bread\n",
        "quantity_sold_array[1] = 39\n",
        "print(quantity_sold_array)"
      ],
      "execution_count": 11,
      "outputs": [
        {
          "output_type": "stream",
          "name": "stdout",
          "text": [
            "[17 39  1  2  3 16  5]\n"
          ]
        }
      ]
    },
    {
      "cell_type": "code",
      "metadata": {
        "colab": {
          "base_uri": "https://localhost:8080/"
        },
        "id": "qsTSkn30BGhk",
        "outputId": "550206e8-f873-4ed9-b0c0-d6c1bd112617"
      },
      "source": [
        "full_price = price_array * quantity_sold_array\n",
        "print(full_price)"
      ],
      "execution_count": 12,
      "outputs": [
        {
          "output_type": "stream",
          "name": "stdout",
          "text": [
            "[34.  39.  12.  14.  13.5 48.  20. ]\n"
          ]
        }
      ]
    },
    {
      "cell_type": "code",
      "metadata": {
        "colab": {
          "base_uri": "https://localhost:8080/"
        },
        "id": "TM1qARgwCytE",
        "outputId": "a7ddd8b0-f989-4eab-d71f-8b361e438e92"
      },
      "source": [
        "# brownie, cookie, cake, pie, fuge, cupcake, banana bread\n",
        "quantity_leftover = np.array([0., 0., 2., 1., 6., 0., 2.])\n",
        "print(quantity_leftover)"
      ],
      "execution_count": 13,
      "outputs": [
        {
          "output_type": "stream",
          "name": "stdout",
          "text": [
            "[0. 0. 2. 1. 6. 0. 2.]\n"
          ]
        }
      ]
    },
    {
      "cell_type": "code",
      "metadata": {
        "colab": {
          "base_uri": "https://localhost:8080/"
        },
        "id": "Y9qlhkbfGBs-",
        "outputId": "77af1ab4-2861-4bbe-b1c4-91ac7cc5b1e3"
      },
      "source": [
        "#clearance_price = np.array([0., 0., 6., 3.5, 2.25, 0., 2.0])\n",
        "#print(clearance_price)\n",
        "\n",
        "clearance_price = (price_array * .5)\n",
        "print(clearance_price)"
      ],
      "execution_count": 14,
      "outputs": [
        {
          "output_type": "stream",
          "name": "stdout",
          "text": [
            "[1.   0.5  6.   3.5  2.25 1.5  2.  ]\n"
          ]
        }
      ]
    },
    {
      "cell_type": "code",
      "metadata": {
        "colab": {
          "base_uri": "https://localhost:8080/"
        },
        "id": "daqD6Ck4Ke6H",
        "outputId": "4622f557-afa6-4d55-a3dc-0cf4736d42b8"
      },
      "source": [
        "clearance = quantity_leftover * clearance_price\n",
        "print(clearance)\n"
      ],
      "execution_count": 15,
      "outputs": [
        {
          "output_type": "stream",
          "name": "stdout",
          "text": [
            "[ 0.   0.  12.   3.5 13.5  0.   4. ]\n"
          ]
        }
      ]
    },
    {
      "cell_type": "code",
      "metadata": {
        "colab": {
          "base_uri": "https://localhost:8080/"
        },
        "id": "LeSIkyIuLGdv",
        "outputId": "47c748de-ec42-4a1e-8d3e-3b5e1ff8cfb2"
      },
      "source": [
        "total_money_collection = full_price + clearance\n",
        "print(total_money_collection)"
      ],
      "execution_count": 16,
      "outputs": [
        {
          "output_type": "stream",
          "name": "stdout",
          "text": [
            "[34.  39.  24.  17.5 27.  48.  24. ]\n"
          ]
        }
      ]
    },
    {
      "cell_type": "code",
      "metadata": {
        "colab": {
          "base_uri": "https://localhost:8080/"
        },
        "id": "QfTsbub-VqHA",
        "outputId": "cb6245e4-8e04-485e-feef-eb935ece2fb8"
      },
      "source": [
        "print((total_money_collection[0])+(total_money_collection[1])+(total_money_collection[2])+(total_money_collection[3])+(total_money_collection[4])+(total_money_collection[5])+(total_money_collection[6]))\n",
        "\n"
      ],
      "execution_count": 17,
      "outputs": [
        {
          "output_type": "stream",
          "name": "stdout",
          "text": [
            "213.5\n"
          ]
        }
      ]
    },
    {
      "cell_type": "code",
      "metadata": {
        "colab": {
          "base_uri": "https://localhost:8080/"
        },
        "id": "Gv6ksK1ofrC7",
        "outputId": "990fb681-a06b-4ff5-efef-9caa790e4de9"
      },
      "source": [
        "print(\n",
        "    (total_money_collection[0]) + \n",
        "    (total_money_collection[1]) + \n",
        "    (total_money_collection[2]) + \n",
        "    (total_money_collection[3]) + \n",
        "    (total_money_collection[4]) + \n",
        "    (total_money_collection[5]) + \n",
        "    (total_money_collection[6])\n",
        ")\n",
        "\n"
      ],
      "execution_count": 18,
      "outputs": [
        {
          "output_type": "stream",
          "name": "stdout",
          "text": [
            "213.5\n"
          ]
        }
      ]
    },
    {
      "cell_type": "code",
      "metadata": {
        "colab": {
          "base_uri": "https://localhost:8080/"
        },
        "id": "OPLPnKSTfuVj",
        "outputId": "560b6c5e-246e-4716-8713-47c2e0ed03e0"
      },
      "source": [
        "print(\n",
        "    total_money_collection[0] + \n",
        "    total_money_collection[1] + \n",
        "    total_money_collection[2] + \n",
        "    total_money_collection[3] + \n",
        "    total_money_collection[4] + \n",
        "    total_money_collection[5] + \n",
        "    total_money_collection[6]\n",
        ")"
      ],
      "execution_count": 19,
      "outputs": [
        {
          "output_type": "stream",
          "name": "stdout",
          "text": [
            "213.5\n"
          ]
        }
      ]
    },
    {
      "cell_type": "code",
      "metadata": {
        "colab": {
          "base_uri": "https://localhost:8080/"
        },
        "id": "x6aivhEZgaNT",
        "outputId": "90c013f0-5902-462c-a41b-3a02249b7fda"
      },
      "source": [
        "total = 0\n",
        "for money in total_money_collection:\n",
        "    #total += money\n",
        "    total = total + money\n",
        "\n",
        "print(total)"
      ],
      "execution_count": 20,
      "outputs": [
        {
          "output_type": "stream",
          "name": "stdout",
          "text": [
            "213.5\n"
          ]
        }
      ]
    },
    {
      "cell_type": "code",
      "metadata": {
        "colab": {
          "base_uri": "https://localhost:8080/"
        },
        "id": "xSKsEmv2gxHM",
        "outputId": "a994b0bd-9282-4d0a-991b-f2076f5504dc"
      },
      "source": [
        "total = sum(total_money_collection)\n",
        "print(total)"
      ],
      "execution_count": 21,
      "outputs": [
        {
          "output_type": "stream",
          "name": "stdout",
          "text": [
            "213.5\n"
          ]
        }
      ]
    }
  ]
}