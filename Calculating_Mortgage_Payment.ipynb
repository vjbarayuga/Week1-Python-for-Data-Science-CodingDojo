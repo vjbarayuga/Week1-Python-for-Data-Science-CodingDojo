{
  "nbformat": 4,
  "nbformat_minor": 0,
  "metadata": {
    "colab": {
      "name": "Calculating_Mortgage_Payment.ipynb",
      "provenance": [],
      "collapsed_sections": [],
      "toc_visible": true,
      "include_colab_link": true
    },
    "kernelspec": {
      "name": "python3",
      "display_name": "Python 3"
    },
    "language_info": {
      "name": "python"
    }
  },
  "cells": [
    {
      "cell_type": "markdown",
      "metadata": {
        "id": "view-in-github",
        "colab_type": "text"
      },
      "source": [
        "<a href=\"https://colab.research.google.com/github/vjbarayuga/Week1-Python-for-Data-Science-CodingDojo/blob/main/Calculating_Mortgage_Payment.ipynb\" target=\"_parent\"><img src=\"https://colab.research.google.com/assets/colab-badge.svg\" alt=\"Open In Colab\"/></a>"
      ]
    },
    {
      "cell_type": "markdown",
      "metadata": {
        "id": "6VbALW5y_60W"
      },
      "source": [
        "#Calculating Mortgage Payment Exercise"
      ]
    },
    {
      "cell_type": "code",
      "metadata": {
        "id": "T6SQ-8rx_0nw"
      },
      "source": [
        "def EMI(P,r,n):\n",
        "  monthly_installment = P * (r*(1+r)**n)/((1+r)**n-1)\n",
        "  return monthly_installment"
      ],
      "execution_count": null,
      "outputs": []
    },
    {
      "cell_type": "code",
      "metadata": {
        "colab": {
          "base_uri": "https://localhost:8080/"
        },
        "id": "w7hJmxQBApOU",
        "outputId": "492912b6-1f9f-4c63-a4b2-29426ef94e25"
      },
      "source": [
        "#1 SOLUTION\n",
        "EMI(400000,0.03/12,30*12)"
      ],
      "execution_count": null,
      "outputs": [
        {
          "output_type": "execute_result",
          "data": {
            "text/plain": [
              "1686.4161349178237"
            ]
          },
          "metadata": {},
          "execution_count": 2
        }
      ]
    },
    {
      "cell_type": "code",
      "metadata": {
        "colab": {
          "base_uri": "https://localhost:8080/"
        },
        "id": "UxWLU2pBA-4L",
        "outputId": "c180e441-2b1f-4a36-e7aa-6964aefc697a"
      },
      "source": [
        "#2 SOLUTION\n",
        "EMI(400000,0.06/12,30*12)"
      ],
      "execution_count": null,
      "outputs": [
        {
          "output_type": "execute_result",
          "data": {
            "text/plain": [
              "2398.2021006110276"
            ]
          },
          "metadata": {},
          "execution_count": 3
        }
      ]
    }
  ]
}